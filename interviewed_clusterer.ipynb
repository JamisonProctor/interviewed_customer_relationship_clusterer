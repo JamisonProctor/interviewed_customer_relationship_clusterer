{
 "cells": [
  {
   "cell_type": "markdown",
   "metadata": {},
   "source": [
    "### Clustering Method for Analyzing Relationships Between Interviewed and Non-interviewed Customers\n",
    "\n",
    "#### Project Overview\n",
    "This data science project delves into a scenario with 200 customers, of which 10 have participated in in-depth discovery interviews. Our goal is to identify patterns and similarities between the interviewed and non-interviewed groups to better understand customer needs.\n",
    "\n",
    "#### Goals\n",
    "- **Identify Similarities:** We use clustering algorithms to detect similarities and patterns in customer behavior and preferences.\n",
    "- **Extrapolate Interview Insights:** Insights from the interviews are leveraged to gain a deeper understanding of the entire customer base.\n",
    "- **Enhance Value Delivery:** These findings will inform strategies to improve efficiency in delivering value to all customers, especially those not interviewed.\n",
    "\n",
    "#### Approach\n",
    "Our methodology involves a detailed analysis of customer data, utilizing clustering techniques to categorize customers based on various attributes. This process aims to reveal the extent to which non-interviewed customers resemble those interviewed, allowing us to apply these insights more broadly.\n",
    "\n",
    "#### Data Source\n",
    "[Our customer data, sourced from Kaggle](https://www.kaggle.com/datasets/shrutimechlearn/customer-data), comprises 200 data points with the following features:\n",
    "- **CustomerID:** Assigned IDs range from 1 to 200.\n",
    "- **Gender:** Distribution includes 56% Female and 44% Male customers.\n",
    "- **Age:** Customers aged between 18 and 70 years.\n",
    "- **Annual Income:** Ranges from $15,000 to $137,000.\n",
    "- **Spending Score:** Scored between 1 and 99, indicating purchasing behavior.\n"
   ]
  },
  {
   "cell_type": "code",
   "execution_count": 22,
   "metadata": {},
   "outputs": [],
   "source": [
    "import pandas as pd\n",
    "import numpy as np\n",
    "from sklearn.preprocessing import MinMaxScaler"
   ]
  },
  {
   "cell_type": "code",
   "execution_count": 33,
   "metadata": {},
   "outputs": [],
   "source": [
    "# Import data\n",
    "data_path = 'data/Mall_Customers.csv'\n",
    "data = pd.read_csv(data_path)"
   ]
  },
  {
   "cell_type": "code",
   "execution_count": 34,
   "metadata": {},
   "outputs": [],
   "source": [
    "# Format and Clean Data\n",
    "data = data.drop(columns=['CustomerID'])\n",
    "data = data.rename(columns={'Genre': 'Gender'})\n",
    "data.columns = data.columns.str.lower()\n",
    "data['gender'] = data['gender'].astype('category')\n",
    "\n",
    "df = data.copy()"
   ]
  },
  {
   "cell_type": "code",
   "execution_count": 35,
   "metadata": {},
   "outputs": [],
   "source": [
    "# Normalize Data\n",
    "df[['age', 'annual_income_(k$)', 'spending_score']] = MinMaxScaler().fit_transform(data[['age', 'annual_income_(k$)', 'spending_score']])"
   ]
  },
  {
   "cell_type": "code",
   "execution_count": null,
   "metadata": {},
   "outputs": [],
   "source": []
  }
 ],
 "metadata": {
  "kernelspec": {
   "display_name": "venv",
   "language": "python",
   "name": "python3"
  },
  "language_info": {
   "codemirror_mode": {
    "name": "ipython",
    "version": 3
   },
   "file_extension": ".py",
   "mimetype": "text/x-python",
   "name": "python",
   "nbconvert_exporter": "python",
   "pygments_lexer": "ipython3",
   "version": "3.11.6"
  }
 },
 "nbformat": 4,
 "nbformat_minor": 2
}
