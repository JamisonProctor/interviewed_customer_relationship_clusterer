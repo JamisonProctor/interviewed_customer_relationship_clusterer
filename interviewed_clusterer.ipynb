{
 "cells": [
  {
   "cell_type": "markdown",
   "metadata": {},
   "source": [
    "### Clustering Method Exploration: Analyzing Relationships Between Interviewed and Non-interviewed Customers\n",
    "\n",
    "#### Project Overview\n",
    "In this solo data science project, I explore clustering methods using a dataset of 200 customers, where 10 have undergone in-depth discovery interviews. My aim is to discover patterns and similarities between the interviewed and non-interviewed customers, enhancing my understanding of diverse customer needs.\n",
    "\n",
    "#### Objectives\n",
    "- **Uncover Similarities:** Utilizing clustering algorithms to unearth patterns in customer behavior and preferences.\n",
    "- **Extrapolate Interview Insights:** Applying insights from the interviews to gain a deeper understanding of the entire customer base, on an individual basis.\n",
    "- **Enhance Personal Learning:** This project serves as a means to improve my skills in delivering data-driven insights, focusing on customers who have not been interviewed.\n",
    "\n",
    "#### Approach\n",
    "The project involves a detailed analysis of customer data, using clustering techniques to categorize customers based on various attributes. This individual exploration aims to reveal how non-interviewed customers resemble those interviewed, enhancing my personal understanding and application of data science methods.\n",
    "\n",
    "#### Data Source\n",
    "The data, sourced from [Kaggle](https://www.kaggle.com/datasets/shrutimechlearn/customer-data), encompasses 200 data points with features such as:\n",
    "- **CustomerID:** IDs ranging from 1 to 200.\n",
    "- **Gender:** Includes 56% Female and 44% Male customers.\n",
    "- **Age:** Customer ages between 18 and 70 years.\n",
    "- **Annual Income:** Ranging from $15,000 to $137,000.\n",
    "- **Spending Score:** Scores between 1 and 99, indicating purchasing behavior.\n",
    "\n",
    "This project is a personal venture to delve into data science methodologies, focusing on clustering techniques.\n"
   ]
  },
  {
   "cell_type": "code",
   "execution_count": 1,
   "metadata": {},
   "outputs": [],
   "source": [
    "# Import libraries\n",
    "import pandas as pd\n",
    "import numpy as np\n",
    "from sklearn.preprocessing import MinMaxScaler\n",
    "from sklearn.metrics.pairwise import euclidean_distances \n",
    "\n",
    "\n",
    "# Import data\n",
    "data_path = 'data/Mall_Customers.csv'\n",
    "data = pd.read_csv(data_path)"
   ]
  },
  {
   "cell_type": "code",
   "execution_count": 2,
   "metadata": {},
   "outputs": [],
   "source": [
    "# Format and Clean Data\n",
    "data = data.drop(columns=['CustomerID'])\n",
    "data = data.rename(columns={'Genre': 'Gender'})\n",
    "data.columns = data.columns.str.lower()\n",
    "data['gender'] = data['gender'].astype('category')\n",
    "\n",
    "df = data.copy()"
   ]
  },
  {
   "cell_type": "code",
   "execution_count": 3,
   "metadata": {},
   "outputs": [],
   "source": [
    "# Normalize Data\n",
    "df[['age', 'annual_income_(k$)', 'spending_score']] = MinMaxScaler().fit_transform(data[['age', 'annual_income_(k$)', 'spending_score']])\n",
    "df['gender'] = df['gender'].cat.codes"
   ]
  },
  {
   "cell_type": "code",
   "execution_count": 4,
   "metadata": {},
   "outputs": [],
   "source": [
    "df_distances = euclidean_distances(df, df)"
   ]
  },
  {
   "cell_type": "code",
   "execution_count": 5,
   "metadata": {},
   "outputs": [],
   "source": [
    "distance_columns = [f'distance_to_{i}' for i in range(len(df))]\n",
    "df_distances = pd.DataFrame(df_distances, columns=distance_columns, index=df.index)\n",
    "df = pd.concat([df, df_distances], axis=1)"
   ]
  },
  {
   "cell_type": "code",
   "execution_count": 6,
   "metadata": {},
   "outputs": [],
   "source": [
    "# Select 10 random customers as \"interviewed\" and remove them from the dataset.\n",
    "#df_interviewed = df.sample(10)\n",
    "#df = df.drop(df_interviewed.index)"
   ]
  }
 ],
 "metadata": {
  "kernelspec": {
   "display_name": "venv",
   "language": "python",
   "name": "python3"
  },
  "language_info": {
   "codemirror_mode": {
    "name": "ipython",
    "version": 3
   },
   "file_extension": ".py",
   "mimetype": "text/x-python",
   "name": "python",
   "nbconvert_exporter": "python",
   "pygments_lexer": "ipython3",
   "version": "3.11.6"
  }
 },
 "nbformat": 4,
 "nbformat_minor": 2
}
